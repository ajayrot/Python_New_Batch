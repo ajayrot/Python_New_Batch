{
 "cells": [
  {
   "cell_type": "markdown",
   "id": "8cf5eb09",
   "metadata": {},
   "source": [
    "# Data Types:\n",
    "- Integer\n",
    "- String \n",
    "- Float"
   ]
  },
  {
   "cell_type": "code",
   "execution_count": 1,
   "id": "c328d38a",
   "metadata": {},
   "outputs": [
    {
     "name": "stdout",
     "output_type": "stream",
     "text": [
      "10 <class 'int'>\n"
     ]
    }
   ],
   "source": [
    "# Integer\n",
    "x = 10\n",
    "print(x,type(x))\n"
   ]
  },
  {
   "cell_type": "code",
   "execution_count": 2,
   "id": "6fc30997",
   "metadata": {},
   "outputs": [
    {
     "name": "stdout",
     "output_type": "stream",
     "text": [
      "Python <class 'str'>\n"
     ]
    }
   ],
   "source": [
    "# STring\n",
    "s = \"Python\"\n",
    "print(s,type(s))"
   ]
  },
  {
   "cell_type": "code",
   "execution_count": 3,
   "id": "24b9500b",
   "metadata": {},
   "outputs": [
    {
     "name": "stdout",
     "output_type": "stream",
     "text": [
      "10.3 <class 'float'>\n"
     ]
    }
   ],
   "source": [
    "# Float\n",
    "f = 10.3\n",
    "print(f,type(f))"
   ]
  },
  {
   "cell_type": "markdown",
   "id": "33459ce2",
   "metadata": {},
   "source": [
    "# Datatype Conversions\n",
    "- integer -->int\n",
    "- string --> str\n",
    "- float --> float\n"
   ]
  },
  {
   "cell_type": "code",
   "execution_count": 7,
   "id": "aed42811",
   "metadata": {},
   "outputs": [
    {
     "name": "stdout",
     "output_type": "stream",
     "text": [
      "3 <class 'int'>\n",
      "3 <class 'str'>\n",
      "3.0 <class 'float'>\n"
     ]
    }
   ],
   "source": [
    "n = 3\n",
    "print(n,type(n))\n",
    "s = str(n)\n",
    "print(s,type(s))\n",
    "f = float(n)\n",
    "print(f,type(f))"
   ]
  },
  {
   "cell_type": "code",
   "execution_count": 5,
   "id": "d56489ce",
   "metadata": {},
   "outputs": [
    {
     "name": "stdout",
     "output_type": "stream",
     "text": [
      "123456 <class 'str'>\n",
      "123456 <class 'int'>\n",
      "123456.0 <class 'float'>\n"
     ]
    }
   ],
   "source": [
    "# string\n",
    "s = '123456'\n",
    "print(s,type(s))\n",
    "n = int(s)\n",
    "print(n,type(n))\n",
    "f = float(s)\n",
    "print(f,type(f))"
   ]
  },
  {
   "cell_type": "code",
   "execution_count": 6,
   "id": "5d43a5a9",
   "metadata": {},
   "outputs": [
    {
     "name": "stdout",
     "output_type": "stream",
     "text": [
      "12.2 <class 'float'>\n",
      "12 <class 'int'>\n",
      "12.2 <class 'str'>\n"
     ]
    }
   ],
   "source": [
    "# Float \n",
    "f = 12.2\n",
    "print(f,type(f))\n",
    "n = int(f)\n",
    "print(n,type(n))\n",
    "s = str(f)\n",
    "print(s,type(s))"
   ]
  },
  {
   "cell_type": "markdown",
   "id": "2b9a7833",
   "metadata": {},
   "source": [
    "# Python Operator:\n",
    "- To Perform orarions on variables and values"
   ]
  },
  {
   "cell_type": "markdown",
   "id": "25846071",
   "metadata": {},
   "source": [
    "# Arithematic Operator:\n",
    "- used with numeric values to perform  mathematical operations:\n",
    "\n",
    "* Operator:\n",
    "   - **+**\n",
    "   - **-**\n",
    "   - **'*'**\n",
    "   - **/**\n",
    "   - **\n",
    "   - **%**\n",
    "   - **//**"
   ]
  },
  {
   "cell_type": "code",
   "execution_count": 7,
   "id": "c59852b3",
   "metadata": {},
   "outputs": [
    {
     "name": "stdout",
     "output_type": "stream",
     "text": [
      "15\n",
      "5\n",
      "50\n",
      "2.0\n",
      "100000\n",
      "0\n",
      "2\n"
     ]
    }
   ],
   "source": [
    "x = 10\n",
    "y = 5\n",
    "print(x+y)\n",
    "print(x-y)\n",
    "print(x*y)\n",
    "print(x/y)\n",
    "print(x**y)\n",
    "print(x%y)\n",
    "print(x//y)"
   ]
  },
  {
   "cell_type": "markdown",
   "id": "ced33e09",
   "metadata": {},
   "source": [
    "# Assignment Operator:\n",
    "- Used to assign values to variables\n",
    "- Operator:\n",
    "  - **=**\n",
    "  - **+=**\n",
    "  - **-=**\n",
    "  - ***=**\n",
    "  - **/=**\n",
    "  - %=\n",
    "  - //="
   ]
  },
  {
   "cell_type": "code",
   "execution_count": 8,
   "id": "b773a0c5",
   "metadata": {},
   "outputs": [
    {
     "name": "stdout",
     "output_type": "stream",
     "text": [
      "7\n",
      "5\n",
      "10\n",
      "5.0\n"
     ]
    }
   ],
   "source": [
    "x = 3\n",
    "x += 4 # x = x+4\n",
    "print(x)\n",
    "x -= 2\n",
    "print(x)\n",
    "x *= 2\n",
    "print(x)\n",
    "x /= 2\n",
    "print(x)"
   ]
  },
  {
   "cell_type": "markdown",
   "id": "c956eec3",
   "metadata": {},
   "source": [
    "# Comparision Operator:\n",
    "- Used to compare 2 values\n",
    "- Operator:\n",
    "  - **==**\n",
    "  - **!=**\n",
    "  - **<**\n",
    "  - **>**\n",
    "  - **<=**\n",
    "  - **>=**"
   ]
  },
  {
   "cell_type": "code",
   "execution_count": 9,
   "id": "34d14afa",
   "metadata": {},
   "outputs": [
    {
     "name": "stdout",
     "output_type": "stream",
     "text": [
      "False\n",
      "True\n",
      "True\n",
      "False\n",
      "True\n",
      "False\n"
     ]
    }
   ],
   "source": [
    "x = 4\n",
    "y = 8\n",
    "print(x ==y)\n",
    "print(x !=y)\n",
    "print(x <y)\n",
    "print(x >y)\n",
    "print(x<=y)\n",
    "print(x>=y)"
   ]
  },
  {
   "cell_type": "markdown",
   "id": "8d5158fc",
   "metadata": {},
   "source": [
    "# Logical Operator:\n",
    "- used to combine conditional statements\n",
    "- **and**\n",
    "- **or**\n",
    "- **not**"
   ]
  },
  {
   "cell_type": "code",
   "execution_count": 10,
   "id": "7db5a321",
   "metadata": {},
   "outputs": [
    {
     "name": "stdout",
     "output_type": "stream",
     "text": [
      "True\n",
      "True\n",
      "False\n"
     ]
    }
   ],
   "source": [
    "x = 6\n",
    "print(x<9 and x>3)\n",
    "print(x<9 or x>3)\n",
    "print(not(x<9 and x>3))\n"
   ]
  },
  {
   "cell_type": "markdown",
   "id": "4415c1f3",
   "metadata": {},
   "source": [
    "# Identity Operator:\n",
    "- used to compare objects\n",
    "- **is**\n",
    "- **is not**"
   ]
  },
  {
   "cell_type": "code",
   "execution_count": 15,
   "id": "cc679f16",
   "metadata": {},
   "outputs": [
    {
     "name": "stdout",
     "output_type": "stream",
     "text": [
      "False\n",
      "True\n"
     ]
    }
   ],
   "source": [
    "a = 3\n",
    "b = 4\n",
    "c = 6\n",
    "print(a is b)\n",
    "print(a is not c)"
   ]
  },
  {
   "cell_type": "markdown",
   "id": "c24f0fc7",
   "metadata": {},
   "source": [
    "# Memebership Operator:\n",
    "- Used to test given sequence presnted in object\n",
    "- **in**\n",
    "- **not in**"
   ]
  },
  {
   "cell_type": "code",
   "execution_count": 16,
   "id": "38e0b18b",
   "metadata": {},
   "outputs": [
    {
     "name": "stdout",
     "output_type": "stream",
     "text": [
      "True\n",
      "True\n",
      "False\n",
      "True\n"
     ]
    }
   ],
   "source": [
    "x = \"Python\"\n",
    "print('y' in x)\n",
    "print('Py' in x)\n",
    "print('Pt' in x)\n",
    "print('Q' not in x)"
   ]
  },
  {
   "cell_type": "markdown",
   "id": "69a13c5e",
   "metadata": {},
   "source": [
    "# Control Flow Statement \n",
    "- Conditional Statements\n",
    "    - if-else Statement\n",
    "- Looping Statements\n",
    "    - for loop Statement\n",
    "    - while loop statement"
   ]
  },
  {
   "cell_type": "markdown",
   "id": "08bde76c",
   "metadata": {},
   "source": [
    "# if- else\n"
   ]
  },
  {
   "cell_type": "code",
   "execution_count": null,
   "id": "73606f7a",
   "metadata": {},
   "outputs": [],
   "source": [
    "#Syntax:\n",
    "if Booolean_Condtion:\n",
    "    Statement\n",
    "else:\n",
    "    Statement"
   ]
  },
  {
   "cell_type": "code",
   "execution_count": 9,
   "id": "3e5dc282",
   "metadata": {},
   "outputs": [
    {
     "name": "stdout",
     "output_type": "stream",
     "text": [
      "Entre a number: 4\n",
      "Even number\n"
     ]
    }
   ],
   "source": [
    "# Check given number is even or oddd\n",
    "n = int(input(\"Entre a number: \"))\n",
    "if n%2==0:\n",
    "    print(\"Even number\")\n",
    "else:\n",
    "    print(\"Odd Number\")"
   ]
  },
  {
   "cell_type": "code",
   "execution_count": 11,
   "id": "74357db1",
   "metadata": {},
   "outputs": [
    {
     "name": "stdout",
     "output_type": "stream",
     "text": [
      "entre a number :4\n",
      "No\n"
     ]
    }
   ],
   "source": [
    "# Check given number multiples of both 3 and 5 \n",
    "x = int(input(\"entre a number :\"))\n",
    "if x%3==0 and x%5==0:\n",
    "    print(\"Yes\")\n",
    "else:\n",
    "    print(\"No\")"
   ]
  },
  {
   "cell_type": "code",
   "execution_count": 32,
   "id": "98e56649",
   "metadata": {},
   "outputs": [
    {
     "name": "stdout",
     "output_type": "stream",
     "text": [
      "Entre a number:0\n",
      "Zero\n"
     ]
    }
   ],
   "source": [
    "n = int(input(\"Entre a number:\"))\n",
    "if n>0:\n",
    "    print(\"Positive number\")\n",
    "elif n<0:\n",
    "    print(\"NEGATIVE nUMBER\")\n",
    "else :\n",
    "    print(\"Zero\")"
   ]
  },
  {
   "cell_type": "code",
   "execution_count": 34,
   "id": "08ab968e",
   "metadata": {},
   "outputs": [
    {
     "name": "stdout",
     "output_type": "stream",
     "text": [
      "5\n",
      "9\n",
      "11\n",
      "c is large\n"
     ]
    }
   ],
   "source": [
    "# Find large number from given 3 input\n",
    "a = int(input())\n",
    "b = int(input())\n",
    "c = int(input())\n",
    "if a >b and a>c:\n",
    "    print(\"a is large\")\n",
    "elif b>a and b>c:\n",
    "    print(\"b is large\")\n",
    "else:\n",
    "    print(\"c is large\")"
   ]
  },
  {
   "cell_type": "markdown",
   "id": "2dca92c6",
   "metadata": {},
   "source": [
    "# Looping Statements:\n",
    "- While loop Statement\n",
    "    - It allows a programmaer to repeat a single statement or s gruop of statements for true condition.\n",
    "\n",
    "- For loop Statement:\n",
    "    - To Excute a sequence of statements several times"
   ]
  },
  {
   "cell_type": "code",
   "execution_count": 35,
   "id": "a3073cb8",
   "metadata": {},
   "outputs": [
    {
     "name": "stdout",
     "output_type": "stream",
     "text": [
      "python\n",
      "python\n",
      "python\n",
      "python\n",
      "python\n"
     ]
    }
   ],
   "source": [
    "# print \"python\" 5 time\n",
    "print(\"python\")\n",
    "print(\"python\")\n",
    "print(\"python\")\n",
    "print(\"python\")\n",
    "print(\"python\")"
   ]
  },
  {
   "cell_type": "code",
   "execution_count": 36,
   "id": "f4af96b8",
   "metadata": {},
   "outputs": [
    {
     "name": "stdout",
     "output_type": "stream",
     "text": [
      "Python\n",
      "Python\n",
      "Python\n",
      "Python\n",
      "Python\n"
     ]
    }
   ],
   "source": [
    "i = 1\n",
    "while i<=5:\n",
    "    print(\"Python\")\n",
    "    i +=1"
   ]
  },
  {
   "cell_type": "code",
   "execution_count": 38,
   "id": "2452469e",
   "metadata": {},
   "outputs": [
    {
     "name": "stdout",
     "output_type": "stream",
     "text": [
      "1 2 3 4 5 6 7 8 9 10 "
     ]
    }
   ],
   "source": [
    "# 1 2 3 4 5 6 7 8 9 10\n",
    "i =1\n",
    "while i<=10:\n",
    "    print(i,end =\" \")\n",
    "    i +=1"
   ]
  },
  {
   "cell_type": "code",
   "execution_count": 39,
   "id": "9f3e685e",
   "metadata": {},
   "outputs": [
    {
     "name": "stdout",
     "output_type": "stream",
     "text": [
      "2 4 6 8 10 "
     ]
    }
   ],
   "source": [
    "# from 1 to 10 print even numbers\n",
    "# 2 4 6 8 10\n",
    "i =1\n",
    "while i<=10:\n",
    "    if i %2 ==0:\n",
    "        print(i,end =\" \")\n",
    "    i +=1"
   ]
  },
  {
   "cell_type": "code",
   "execution_count": 1,
   "id": "1e1ec650",
   "metadata": {},
   "outputs": [
    {
     "name": "stdout",
     "output_type": "stream",
     "text": [
      "123\n",
      "321"
     ]
    }
   ],
   "source": [
    "# input : 123\n",
    "# output : 321\n",
    "n = int(input())\n",
    "while n !=0:\n",
    "    print(n%10,end = \"\")\n",
    "    n = n//10"
   ]
  },
  {
   "cell_type": "markdown",
   "id": "236416a0",
   "metadata": {},
   "source": [
    "# Break Statement:\n",
    "- we can stop the loop even if the while condition is true"
   ]
  },
  {
   "cell_type": "code",
   "execution_count": 3,
   "id": "049f8b2b",
   "metadata": {},
   "outputs": [
    {
     "name": "stdout",
     "output_type": "stream",
     "text": [
      "1 2 3 "
     ]
    }
   ],
   "source": [
    "i = 1\n",
    "while i <= 5:\n",
    "    print(i,end = \" \")\n",
    "    if i ==3:\n",
    "        break\n",
    "    i +=1"
   ]
  },
  {
   "cell_type": "code",
   "execution_count": 4,
   "id": "140a0e23",
   "metadata": {},
   "outputs": [
    {
     "name": "stdout",
     "output_type": "stream",
     "text": [
      "123567"
     ]
    }
   ],
   "source": [
    "# Continue Statement:\n",
    "# we can stop current iteration and continue with next\n",
    "i = 0\n",
    "while i<=6:\n",
    "    i +=1\n",
    "    if i ==4:\n",
    "        continue\n",
    "    print(i,end=\" \")"
   ]
  },
  {
   "cell_type": "code",
   "execution_count": null,
   "id": "c020091d",
   "metadata": {},
   "outputs": [],
   "source": []
  }
 ],
 "metadata": {
  "kernelspec": {
   "display_name": "Python 3 (ipykernel)",
   "language": "python",
   "name": "python3"
  },
  "language_info": {
   "codemirror_mode": {
    "name": "ipython",
    "version": 3
   },
   "file_extension": ".py",
   "mimetype": "text/x-python",
   "name": "python",
   "nbconvert_exporter": "python",
   "pygments_lexer": "ipython3",
   "version": "3.9.7"
  }
 },
 "nbformat": 4,
 "nbformat_minor": 5
}
