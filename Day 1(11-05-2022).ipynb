{
 "cells": [
  {
   "cell_type": "markdown",
   "id": "32217a59",
   "metadata": {},
   "source": [
    "# Python\n",
    "## Python\n",
    "### Python\n",
    "#### Python\n",
    "- Python\n",
    "  - Python1\n",
    "  - Python2\n",
    "  \n",
    "- **Python** --Bold\n",
    "- *Python* - -Italic\n",
    "- ***Python*** -- Blod+Italic\n",
    "- Short cut to run cell -->**Shift+Enter**"
   ]
  },
  {
   "cell_type": "markdown",
   "id": "52bcbeeb",
   "metadata": {},
   "source": [
    "# Introduction To Python\n",
    "- Python is Object oriented Programming\n",
    "- Used in Web Development\n",
    "         - Software Dvelopment\n",
    "         \n",
    "- Python works in diffrent platfomrs \n",
    "- Python has a simple syntax similar to english language"
   ]
  },
  {
   "cell_type": "markdown",
   "id": "9312f63b",
   "metadata": {},
   "source": [
    "# Print Function:\n",
    "- used to print text or message"
   ]
  },
  {
   "cell_type": "code",
   "execution_count": 1,
   "id": "4831a697",
   "metadata": {},
   "outputs": [
    {
     "name": "stdout",
     "output_type": "stream",
     "text": [
      "Hello World!\n"
     ]
    }
   ],
   "source": [
    "print(\"Hello World!\")"
   ]
  },
  {
   "cell_type": "code",
   "execution_count": 2,
   "id": "ed9a7bcc",
   "metadata": {},
   "outputs": [
    {
     "name": "stdout",
     "output_type": "stream",
     "text": [
      "Hello World!\n"
     ]
    }
   ],
   "source": [
    "print('Hello World!')"
   ]
  },
  {
   "cell_type": "markdown",
   "id": "0b68464d",
   "metadata": {},
   "source": [
    "# Variables:\n",
    "- to store some data values."
   ]
  },
  {
   "cell_type": "code",
   "execution_count": 3,
   "id": "de828785",
   "metadata": {},
   "outputs": [
    {
     "name": "stdout",
     "output_type": "stream",
     "text": [
      "10\n"
     ]
    }
   ],
   "source": [
    "x = 10 # single value assigned to single variable\n",
    "print(x)"
   ]
  },
  {
   "cell_type": "code",
   "execution_count": 5,
   "id": "9d96a303",
   "metadata": {},
   "outputs": [
    {
     "name": "stdout",
     "output_type": "stream",
     "text": [
      "10 10 10\n"
     ]
    }
   ],
   "source": [
    "x = y = z = 10  # single value assigned to multiple variables\n",
    "print(x,y,z)"
   ]
  },
  {
   "cell_type": "code",
   "execution_count": 6,
   "id": "ad282689",
   "metadata": {},
   "outputs": [
    {
     "name": "stdout",
     "output_type": "stream",
     "text": [
      "10 20 30\n"
     ]
    }
   ],
   "source": [
    "x,y,z= 10,20,30 # multiple values assigned to multiple variables\n",
    "print(x,y,z)"
   ]
  },
  {
   "cell_type": "markdown",
   "id": "205b6c66",
   "metadata": {},
   "source": [
    "# Input Function:\n",
    "- read input from user"
   ]
  },
  {
   "cell_type": "code",
   "execution_count": 7,
   "id": "14fd4640",
   "metadata": {},
   "outputs": [
    {
     "name": "stdout",
     "output_type": "stream",
     "text": [
      "Enter your name :Ajay\n",
      "Ajay\n"
     ]
    }
   ],
   "source": [
    "# input as text\n",
    "x = input(\"Enter your name :\")\n",
    "print(x)"
   ]
  },
  {
   "cell_type": "code",
   "execution_count": 8,
   "id": "923e6184",
   "metadata": {},
   "outputs": [
    {
     "name": "stdout",
     "output_type": "stream",
     "text": [
      "Enter a number :5\n",
      "5\n"
     ]
    }
   ],
   "source": [
    "# Input as number\n",
    "x = input(\"Enter a number :\")\n",
    "print(x)"
   ]
  },
  {
   "cell_type": "code",
   "execution_count": null,
   "id": "d04f4694",
   "metadata": {},
   "outputs": [],
   "source": []
  }
 ],
 "metadata": {
  "kernelspec": {
   "display_name": "Python 3 (ipykernel)",
   "language": "python",
   "name": "python3"
  },
  "language_info": {
   "codemirror_mode": {
    "name": "ipython",
    "version": 3
   },
   "file_extension": ".py",
   "mimetype": "text/x-python",
   "name": "python",
   "nbconvert_exporter": "python",
   "pygments_lexer": "ipython3",
   "version": "3.9.7"
  }
 },
 "nbformat": 4,
 "nbformat_minor": 5
}
